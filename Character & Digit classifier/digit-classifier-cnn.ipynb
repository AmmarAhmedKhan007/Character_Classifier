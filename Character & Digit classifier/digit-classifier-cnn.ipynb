{
 "cells": [
  {
   "cell_type": "code",
   "execution_count": 7,
   "metadata": {
    "_cell_guid": "b1076dfc-b9ad-4769-8c92-a6c4dae69d19",
    "_uuid": "8f2839f25d086af736a60e9eeb907d3b93b6e0e5",
    "scrolled": true
   },
   "outputs": [],
   "source": [
    "import tensorflow as tf\n",
    "import pandas as pd\n",
    "import numpy as np\n",
    "import matplotlib.pyplot as plt\n",
    "import os\n",
    "from tensorflow.keras.models import Sequential\n",
    "from tensorflow.keras.layers import Conv2D\n",
    "from tensorflow.keras.layers import MaxPool2D\n",
    "from tensorflow.keras.layers import Flatten\n",
    "from tensorflow.keras.layers import Dropout\n",
    "from tensorflow.keras.layers import Dense\n",
    "from sklearn.model_selection import train_test_split\n",
    "from sklearn.preprocessing import LabelEncoder\n",
    "import cv2\n",
    "import urllib.request\n",
    "import time"
   ]
  },
  {
   "cell_type": "code",
   "execution_count": 2,
   "metadata": {},
   "outputs": [],
   "source": [
    "def read_url_pic(x):\n",
    "    \"\"\"read the image from remote url\n",
    "       and assign it to a variable\"\"\"\n",
    "    image_url = x\n",
    "\n",
    "    with urllib.request.urlopen(image_url) as url:\n",
    "        s = url.read()\n",
    "\n",
    "    arr = np.asarray(bytearray(s), dtype=np.uint8)\n",
    "    image = cv2.imdecode(arr, -1)\n",
    "    return image\n",
    "    \n",
    "def plot_url_pic(x):\n",
    "    image_url = x\n",
    "\n",
    "    with urllib.request.urlopen(image_url) as url:\n",
    "        s = url.read()\n",
    "\n",
    "    arr = np.asarray(bytearray(s), dtype=np.uint8)\n",
    "    image = cv2.imdecode(arr, -1)\n",
    "\n",
    "    plt.imshow(cv2.cvtColor(image, cv2.COLOR_BGR2RGB))\n",
    "    plt.show()\n",
    "\n",
    "def img_to_arr(x):\n",
    "    img = cv2.imread(x)\n",
    "    img = cv2.cvtColor(img, cv2.COLOR_BGR2GRAY)\n",
    "    img = cv2.resize(img,(64,64))\n",
    "    return img"
   ]
  },
  {
   "cell_type": "markdown",
   "metadata": {},
   "source": [
    "# based on your requirements below cell can be manipulated"
   ]
  },
  {
   "cell_type": "code",
   "execution_count": 3,
   "metadata": {},
   "outputs": [
    {
     "data": {
      "image/png": "[encoded data removed]",
      "text/plain": [
       "<Figure size 640x480 with 1 Axes>"
      ]
     },
     "metadata": {},
     "output_type": "display_data"
    },
    {
     "data": {
      "text/plain": [
       "array([[[255, 255, 255],\n",
       "        [255, 255, 255],\n",
       "        [255, 255, 255],\n",
       "        ...,\n",
       "        [255, 255, 255],\n",
       "        [255, 255, 255],\n",
       "        [255, 255, 255]],\n",
       "\n",
       "       [[255, 255, 255],\n",
       "        [255, 255, 255],\n",
       "        [255, 255, 255],\n",
       "        ...,\n",
       "        [255, 255, 255],\n",
       "        [255, 255, 255],\n",
       "        [255, 255, 255]],\n",
       "\n",
       "       [[255, 255, 255],\n",
       "        [255, 255, 255],\n",
       "        [255, 255, 255],\n",
       "        ...,\n",
       "        [255, 255, 255],\n",
       "        [255, 255, 255],\n",
       "        [255, 255, 255]],\n",
       "\n",
       "       ...,\n",
       "\n",
       "       [[255, 255, 255],\n",
       "        [255, 255, 255],\n",
       "        [255, 255, 255],\n",
       "        ...,\n",
       "        [255, 255, 255],\n",
       "        [255, 255, 255],\n",
       "        [255, 255, 255]],\n",
       "\n",
       "       [[255, 255, 255],\n",
       "        [255, 255, 255],\n",
       "        [255, 255, 255],\n",
       "        ...,\n",
       "        [255, 255, 255],\n",
       "        [255, 255, 255],\n",
       "        [255, 255, 255]],\n",
       "\n",
       "       [[255, 255, 255],\n",
       "        [255, 255, 255],\n",
       "        [255, 255, 255],\n",
       "        ...,\n",
       "        [255, 255, 255],\n",
       "        [255, 255, 255],\n",
       "        [255, 255, 255]]], dtype=uint8)"
      ]
     },
     "execution_count": 3,
     "metadata": {},
     "output_type": "execute_result"
    }
   ],
   "source": [
    "plot_url_pic(\"https://www.dhlabels.com/119-large_default/placas-y-numeros-number-1-100mm.jpg\")\n",
    "img = read_url_pic(\"https://www.dhlabels.com/119-large_default/placas-y-numeros-number-1-100mm.jpg\")\n",
    "img"
   ]
  },
  {
   "cell_type": "code",
   "execution_count": 4,
   "metadata": {},
   "outputs": [
    {
     "name": "stdout",
     "output_type": "stream",
     "text": [
      "                image label\n",
      "0  Img/img001-001.png     0\n",
      "1  Img/img001-002.png     0\n",
      "2  Img/img001-003.png     0\n",
      "3  Img/img001-004.png     0\n",
      "4  Img/img001-005.png     0\n",
      "                          image label\n",
      "0  ./Dataset/Img/img001-001.png     0\n",
      "1  ./Dataset/Img/img001-002.png     0\n",
      "2  ./Dataset/Img/img001-003.png     0\n",
      "3  ./Dataset/Img/img001-004.png     0\n",
      "4  ./Dataset/Img/img001-005.png     0\n"
     ]
    }
   ],
   "source": [
    "df = pd.read_csv(\"./Dataset/english.csv\")\n",
    "print(df.head())\n",
    "df['image'] = \"./Dataset/\" + df['image']\n",
    "print(df.head())"
   ]
  },
  {
   "cell_type": "code",
   "execution_count": 5,
   "metadata": {},
   "outputs": [
    {
     "name": "stdout",
     "output_type": "stream",
     "text": [
      "(64, 64)\n"
     ]
    },
    {
     "data": {
      "text/plain": [
       "<matplotlib.image.AxesImage at 0x1d82ca4d1e0>"
      ]
     },
     "execution_count": 5,
     "metadata": {},
     "output_type": "execute_result"
    },
    {
     "data": {
      "image/png": "[encoded data removed]",
      "text/plain": [
       "<Figure size 640x480 with 1 Axes>"
      ]
     },
     "metadata": {},
     "output_type": "display_data"
    }
   ],
   "source": [
    "print(img_to_arr(df['image'][0]).shape)\n",
    "plt.imshow(img_to_arr(df['image'][0]),cmap='Greys')"
   ]
  },
  {
   "cell_type": "code",
   "execution_count": null,
   "metadata": {},
   "outputs": [],
   "source": [
    "# start_time = time.time()\n",
    "# image_array = []\n",
    "# for i in df['image']:\n",
    "#     image = img_to_arr(i)  # Read the image using cv2.imread()\n",
    "#     if image is not None:\n",
    "#         image_array.append(image)\n",
    "# end_time = time.time()\n",
    "# print(\"without multiprocessing:\", end_time-start_time)\n",
    "\n",
    "\n",
    "\n",
    "start_time = time.time()\n",
    "import multiprocessing\n",
    "\n",
    "with multiprocessing.Pool(4) as p:\n",
    "    images = p.map(img_to_arr, df['image'])\n",
    "end_time = time.time()\n",
    "print(\"with multiprocessing:\", end_time-start_time)"
   ]
  },
  {
   "cell_type": "code",
   "execution_count": null,
   "metadata": {},
   "outputs": [],
   "source": [
    "x = np.array(images).reshape(3410, 64, 64,1)\n",
    "x.shape"
   ]
  },
  {
   "cell_type": "code",
   "execution_count": null,
   "metadata": {},
   "outputs": [],
   "source": [
    "img = x[119].reshape((64,64))\n",
    "plt.imshow(img,cmap='gray')\n",
    "print(df['label'].iloc[119])"
   ]
  },
  {
   "cell_type": "code",
   "execution_count": null,
   "metadata": {},
   "outputs": [],
   "source": [
    "y = df['label']   \n",
    "le = LabelEncoder()\n",
    "y_label = le.fit_transform(y)"
   ]
  },
  {
   "cell_type": "code",
   "execution_count": null,
   "metadata": {},
   "outputs": [],
   "source": [
    "train_images,test_images,train_labels,test_labels = train_test_split(x,y_label,test_size=0.2,random_state=42)\n",
    "train_images = train_images/255.0\n",
    "test_images = test_images/255.0"
   ]
  },
  {
   "cell_type": "code",
   "execution_count": null,
   "metadata": {},
   "outputs": [],
   "source": [
    "model = Sequential()\n",
    "model.add(Conv2D(512,(5,5),activation='relu',input_shape=(64,64,1)))\n",
    "model.add(MaxPool2D(2,2))\n",
    "model.add(Conv2D(256,(3,3),activation='relu',input_shape=(64,64,1)))\n",
    "model.add(MaxPool2D(2,2))\n",
    "model.add(Conv2D(256,(3,3),activation='relu'))\n",
    "model.add(MaxPool2D(2,2))\n",
    "model.add(Flatten())\n",
    "model.add(Dense(512,activation='relu'))\n",
    "model.add(Dense(1024,activation='relu'))\n",
    "model.add(Dense(512,activation='relu'))\n",
    "model.add(Dense(256,activation='sigmoid'))\n",
    "model.add(Dense(62,activation='softmax'))\n",
    "model.compile(loss='sparse_categorical_crossentropy',optimizer='adam',metrics=['accuracy'])\n",
    "model.fit(train_images,train_labels,epochs=20,validation_data = (test_images,test_labels))"
   ]
  },
  {
   "cell_type": "code",
   "execution_count": null,
   "metadata": {},
   "outputs": [],
   "source": [
    "model.summary()"
   ]
  },
  {
   "cell_type": "code",
   "execution_count": null,
   "metadata": {},
   "outputs": [],
   "source": [
    "predicted_labels = le.inverse_transform(model.predict(test_images).argmax(axis=1))\n",
    "actual_labels = le.inverse_transform(test_labels)"
   ]
  },
  {
   "cell_type": "code",
   "execution_count": null,
   "metadata": {},
   "outputs": [],
   "source": [
    "print('predicted label is ;',predicted_labels[67])\n",
    "print('Actual Label is :',actual_labels[67])"
   ]
  },
  {
   "cell_type": "markdown",
   "metadata": {},
   "source": [
    "# if you want to test by yourself"
   ]
  },
  {
   "cell_type": "code",
   "execution_count": null,
   "metadata": {},
   "outputs": [],
   "source": [
    "# number of image to be predicted\n",
    "# change the value of I\n",
    "i = 450\n",
    "\n",
    "\n",
    "\n",
    "plt.imshow(test_images[i],cmap='gray')\n",
    "print('printed label :',predicted_labels[i])\n",
    "print('actual label :', actual_labels[i])"
   ]
  },
  {
   "cell_type": "code",
   "execution_count": null,
   "metadata": {},
   "outputs": [],
   "source": [
    "from sklearn.metrics import accuracy_score, precision_score, recall_score, f1_score, confusion_matrix\n",
    "\n",
    "\n",
    "y_pred = model.predict(test_images)\n",
    "y_pred_labels = np.argmax(y_pred, axis=1)\n",
    "\n",
    "# Calculate evaluation metrics\n",
    "accuracy = accuracy_score(test_labels, y_pred_labels)\n",
    "precision = precision_score(test_labels, y_pred_labels, average='weighted')\n",
    "recall = recall_score(test_labels, y_pred_labels, average='weighted')\n",
    "f1 = f1_score(test_labels, y_pred_labels, average='weighted')\n",
    "confusion_mat = confusion_matrix(test_labels, y_pred_labels)\n",
    "\n",
    "# Print or use the evaluation metrics as needed\n",
    "print(\"Accuracy:\", accuracy)\n",
    "print(\"Precision:\", precision)\n",
    "print(\"Recall:\", recall)\n",
    "print(\"F1 Score:\", f1)\n",
    "print(\"Confusion Matrix:\")\n",
    "print(confusion_mat)"
   ]
  },
  {
   "cell_type": "code",
   "execution_count": null,
   "metadata": {},
   "outputs": [],
   "source": []
  },
  {
   "cell_type": "code",
   "execution_count": null,
   "metadata": {},
   "outputs": [],
   "source": []
  },
  {
   "cell_type": "code",
   "execution_count": null,
   "metadata": {},
   "outputs": [],
   "source": []
  }
 ],
 "metadata": {
  "kernelspec": {
   "display_name": "Python 3 (ipykernel)",
   "language": "python",
   "name": "python3"
  },
  "language_info": {
   "codemirror_mode": {
    "name": "ipython",
    "version": 3
   },
   "file_extension": ".py",
   "mimetype": "text/x-python",
   "name": "python",
   "nbconvert_exporter": "python",
   "pygments_lexer": "ipython3",
   "version": "3.10.9"
  }
 },
 "nbformat": 4,
 "nbformat_minor": 4
}
